{
 "cells": [
  {
   "cell_type": "code",
   "execution_count": 3,
   "id": "698d69c9-c502-41d0-a2f1-23cdbed782ce",
   "metadata": {},
   "outputs": [],
   "source": [
    "import numpy as np\n",
    "import pandas as pd\n",
    "import math\n",
    "\n",
    "def cosine(x):\n",
    "    return np.cos(x)"
   ]
  },
  {
   "cell_type": "code",
   "execution_count": 4,
   "id": "8de8092c-2dac-4dec-a2b6-308ca4eb46c1",
   "metadata": {},
   "outputs": [],
   "source": [
    "def sine(x):\n",
    "    return np.sin(x)"
   ]
  },
  {
   "cell_type": "markdown",
   "id": "07506d2f-e4a7-4ff4-95df-05e1a873c756",
   "metadata": {},
   "source": [
    "I created one functions in each cell. Cosine takes one parameter and returns its cosine value. Sine does the same with a sine function"
   ]
  },
  {
   "cell_type": "code",
   "execution_count": 5,
   "id": "f7da5a60-18c6-4ca4-ba98-c44b4fae683b",
   "metadata": {},
   "outputs": [
    {
     "name": "stdout",
     "output_type": "stream",
     "text": [
      "             x    sin(x)    cos(x)\n",
      "0     0.000000  0.000000  1.000000\n",
      "1     0.006283  0.006283  0.999980\n",
      "2     0.012566  0.012566  0.999921\n",
      "3     0.018850  0.018848  0.999822\n",
      "4     0.025133  0.025130  0.999684\n",
      "...        ...       ...       ...\n",
      "996   6.258053 -0.025130  0.999684\n",
      "997   6.264336 -0.018848  0.999822\n",
      "998   6.270619 -0.012566  0.999921\n",
      "999   6.276902 -0.006283  0.999980\n",
      "1000  6.283185 -0.000000  1.000000\n",
      "\n",
      "[1001 rows x 3 columns]\n"
     ]
    }
   ],
   "source": [
    "data = {\n",
    "  \"x\": [],\n",
    "  \"sin(x)\": [],\n",
    "  \"cos(x)\": []\n",
    "}\n",
    "\n",
    "# Load data into a DataFrame object:\n",
    "df = pd.DataFrame(data)\n",
    "\n",
    "for i in range(1001):\n",
    "    x = i * (2 * math.pi) / 1000\n",
    "    y = sine(x)\n",
    "    z = cosine(x)\n",
    "    # Round the values to a certain precision (e.g., 10 decimal places)\n",
    "    df.loc[len(df.index)] = [round(x, 10), round(y, 10), round(z, 10)]\n",
    "\n",
    "print(df)"
   ]
  },
  {
   "cell_type": "markdown",
   "id": "0c46c891-264d-4987-983f-74d79f273128",
   "metadata": {},
   "source": [
    "This cell tabulates the first 1000 entries of x, sin(x), and cos(x)"
   ]
  },
  {
   "cell_type": "code",
   "execution_count": 6,
   "id": "2755cc84-f602-4f31-8534-01a64bec4c4c",
   "metadata": {},
   "outputs": [
    {
     "name": "stdout",
     "output_type": "stream",
     "text": [
      "           x    sin(x)    cos(x)\n",
      "0   0.000000  0.000000  1.000000\n",
      "1   0.571199  0.540641  0.841254\n",
      "2   1.142397  0.909632  0.415415\n",
      "3   1.713596  0.989821 -0.142315\n",
      "4   2.284795  0.755750 -0.654861\n",
      "5   2.855993  0.281733 -0.959493\n",
      "6   3.427192 -0.281733 -0.959493\n",
      "7   3.998391 -0.755750 -0.654861\n",
      "8   4.569589 -0.989821 -0.142315\n",
      "9   5.140788 -0.909632  0.415415\n",
      "10  5.711987 -0.540641  0.841254\n"
     ]
    }
   ],
   "source": [
    "data = {\n",
    "  \"x\": [],\n",
    "  \"sin(x)\": [],\n",
    "  \"cos(x)\": []\n",
    "}\n",
    "\n",
    "# Load data into a DataFrame object:\n",
    "df = pd.DataFrame(data)\n",
    "\n",
    "for i in range(11):\n",
    "    x = i * (2 * math.pi) / 11\n",
    "    y = sine(x)\n",
    "    z = cosine(x)\n",
    "    # Round the values to a certain precision (e.g., 10 decimal places)\n",
    "    df.loc[len(df.index)] = [round(x, 10), round(y, 10), round(z, 10)]\n",
    "\n",
    "print(df)"
   ]
  },
  {
   "cell_type": "markdown",
   "id": "3c7426ee-3c72-4235-98e7-05922867de4c",
   "metadata": {},
   "source": [
    "This cell uses a for loop and prints the first 10 entries of x, sin(x), and cos(x) in columns"
   ]
  }
 ],
 "metadata": {
  "kernelspec": {
   "display_name": "Python 3 (ipykernel)",
   "language": "python",
   "name": "python3"
  },
  "language_info": {
   "codemirror_mode": {
    "name": "ipython",
    "version": 3
   },
   "file_extension": ".py",
   "mimetype": "text/x-python",
   "name": "python",
   "nbconvert_exporter": "python",
   "pygments_lexer": "ipython3",
   "version": "3.11.1"
  }
 },
 "nbformat": 4,
 "nbformat_minor": 5
}
